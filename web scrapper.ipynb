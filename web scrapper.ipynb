{
 "cells": [
  {
   "cell_type": "code",
   "execution_count": 38,
   "metadata": {
    "_cell_guid": "b1076dfc-b9ad-4769-8c92-a6c4dae69d19",
    "_uuid": "8f2839f25d086af736a60e9eeb907d3b93b6e0e5",
    "execution": {
     "iopub.execute_input": "2023-06-26T11:24:56.830678Z",
     "iopub.status.busy": "2023-06-26T11:24:56.829952Z",
     "iopub.status.idle": "2023-06-26T11:24:57.067311Z",
     "shell.execute_reply": "2023-06-26T11:24:57.066401Z",
     "shell.execute_reply.started": "2023-06-26T11:24:56.830644Z"
    }
   },
   "outputs": [],
   "source": [
    "import os\n",
    "import numpy as np\n",
    "import pandas as pd\n",
    "import base64\n",
    "\n",
    "import requests\n",
    "from bs4 import BeautifulSoup\n",
    "from googlesearch import search\n",
    "from selenium import webdriver\n",
    "from selenium.webdriver.chrome.service import Service"
   ]
  },
  {
   "cell_type": "code",
   "execution_count": 39,
   "metadata": {},
   "outputs": [],
   "source": [
    "data_path = r'C:\\Users\\Narayanan\\Desktop\\python\\scrapper\\scrap_details.xlsx'\n",
    "save_folder_path = r'D:\\data'\n",
    "driver_path = r'C:/Users/Narayanan/Desktop/python/scrapper/chromedriver.exe'"
   ]
  },
  {
   "cell_type": "code",
   "execution_count": 40,
   "metadata": {},
   "outputs": [],
   "source": [
    "data = pd.read_excel(data_path)"
   ]
  },
  {
   "cell_type": "code",
   "execution_count": 41,
   "metadata": {},
   "outputs": [
    {
     "data": {
      "text/html": [
       "<div>\n",
       "<style scoped>\n",
       "    .dataframe tbody tr th:only-of-type {\n",
       "        vertical-align: middle;\n",
       "    }\n",
       "\n",
       "    .dataframe tbody tr th {\n",
       "        vertical-align: top;\n",
       "    }\n",
       "\n",
       "    .dataframe thead th {\n",
       "        text-align: right;\n",
       "    }\n",
       "</style>\n",
       "<table border=\"1\" class=\"dataframe\">\n",
       "  <thead>\n",
       "    <tr style=\"text-align: right;\">\n",
       "      <th></th>\n",
       "      <th>class</th>\n",
       "      <th>keyword</th>\n",
       "    </tr>\n",
       "  </thead>\n",
       "  <tbody>\n",
       "    <tr>\n",
       "      <th>23</th>\n",
       "      <td>Sleeping</td>\n",
       "      <td>Sleeping in Train</td>\n",
       "    </tr>\n",
       "    <tr>\n",
       "      <th>24</th>\n",
       "      <td>Sleeping</td>\n",
       "      <td>Sleeping in bus</td>\n",
       "    </tr>\n",
       "    <tr>\n",
       "      <th>25</th>\n",
       "      <td>Sleeping</td>\n",
       "      <td>Sleeping in car</td>\n",
       "    </tr>\n",
       "    <tr>\n",
       "      <th>26</th>\n",
       "      <td>Sleeping</td>\n",
       "      <td>Sleeping in Pedestrian Walk</td>\n",
       "    </tr>\n",
       "    <tr>\n",
       "      <th>27</th>\n",
       "      <td>Sleeping</td>\n",
       "      <td>Sleeping in flight</td>\n",
       "    </tr>\n",
       "  </tbody>\n",
       "</table>\n",
       "</div>"
      ],
      "text/plain": [
       "       class                       keyword\n",
       "23  Sleeping            Sleeping in Train \n",
       "24  Sleeping              Sleeping in bus \n",
       "25  Sleeping              Sleeping in car \n",
       "26  Sleeping  Sleeping in Pedestrian Walk \n",
       "27  Sleeping           Sleeping in flight "
      ]
     },
     "execution_count": 41,
     "metadata": {},
     "output_type": "execute_result"
    }
   ],
   "source": [
    "data.tail()"
   ]
  },
  {
   "cell_type": "code",
   "execution_count": 42,
   "metadata": {},
   "outputs": [],
   "source": [
    "data = data.groupby('class')['keyword'].apply(list).to_dict()"
   ]
  },
  {
   "cell_type": "code",
   "execution_count": 43,
   "metadata": {},
   "outputs": [],
   "source": [
    "def get_image_links_from_search(query, num_pages=1):\n",
    "    image_links = []\n",
    "    \n",
    "    service = Service(executable_path= driver_path)\n",
    "    options = webdriver.ChromeOptions()\n",
    "    options.add_argument(\"headless\")\n",
    "    browser = webdriver.Chrome(service=service, options=options)\n",
    "\n",
    "    for page in range(num_pages):\n",
    "        start = page * 50\n",
    "        url = f\"https://www.google.com/search?q={query}&tbm=isch&start={start}\"\n",
    "\n",
    "        browser.get(url)\n",
    "        page_source = browser.page_source\n",
    "\n",
    "        soup = BeautifulSoup(page_source, 'html.parser')\n",
    "\n",
    "        for img in soup.find_all('img'):\n",
    "            src = img.get('src')\n",
    "            if src:\n",
    "                image_links.append(src)\n",
    "\n",
    "    browser.quit()\n",
    "    image_links = list(set(image_links))\n",
    "    \n",
    "    return image_links\n"
   ]
  },
  {
   "cell_type": "code",
   "execution_count": 44,
   "metadata": {},
   "outputs": [],
   "source": [
    "all_links = dict()\n",
    "for query_class, query in data.items():\n",
    "    class_link = []\n",
    "    for i in query:\n",
    "        fetched_links = get_image_links_from_search(i, 3)\n",
    "        class_link.extend(fetched_links)\n",
    "    all_links[query_class] = list(set(class_link))"
   ]
  },
  {
   "cell_type": "code",
   "execution_count": 45,
   "metadata": {},
   "outputs": [],
   "source": [
    "def download_image(url, file_path):\n",
    "    if url.startswith('data'):\n",
    "        head, data = url.split(',', 1)\n",
    "        file_ext = head.split(';')[0].split('/')[1]\n",
    "        \n",
    "        plain_data = base64.b64decode(data)\n",
    "\n",
    "        with open(file_path, 'wb') as file:\n",
    "            file.write(plain_data)\n",
    "    try:\n",
    "        response = requests.get(url)\n",
    "        response.raise_for_status()\n",
    "\n",
    "        with open(file_path, 'wb') as file:\n",
    "            file.write(response.content)\n",
    "    except:\n",
    "        pass"
   ]
  },
  {
   "cell_type": "code",
   "execution_count": 46,
   "metadata": {},
   "outputs": [],
   "source": [
    "for class_name, img_url in all_links.items():\n",
    "    count = len(img_url)\n",
    "    \n",
    "    path = os.path.join(save_folder_path, class_name)\n",
    "    isExist = os.path.exists(path)\n",
    "    if not isExist:\n",
    "        os.makedirs(path)\n",
    "    \n",
    "    for i in range(len(img_url)):\n",
    "        file_path = path + '\\\\' + class_name + '_' + f\"{i:05d}.jpg\"\n",
    "        download_image(img_url[i], file_path)"
   ]
  },
  {
   "cell_type": "code",
   "execution_count": null,
   "metadata": {},
   "outputs": [],
   "source": []
  },
  {
   "cell_type": "code",
   "execution_count": null,
   "metadata": {},
   "outputs": [],
   "source": []
  },
  {
   "cell_type": "code",
   "execution_count": null,
   "metadata": {},
   "outputs": [],
   "source": []
  },
  {
   "cell_type": "code",
   "execution_count": null,
   "metadata": {},
   "outputs": [],
   "source": []
  },
  {
   "cell_type": "code",
   "execution_count": null,
   "metadata": {},
   "outputs": [],
   "source": []
  },
  {
   "cell_type": "code",
   "execution_count": null,
   "metadata": {},
   "outputs": [],
   "source": []
  },
  {
   "cell_type": "code",
   "execution_count": null,
   "metadata": {},
   "outputs": [],
   "source": []
  },
  {
   "cell_type": "code",
   "execution_count": null,
   "metadata": {},
   "outputs": [],
   "source": []
  }
 ],
 "metadata": {
  "kernelspec": {
   "display_name": "Python 3 (ipykernel)",
   "language": "python",
   "name": "python3"
  },
  "language_info": {
   "codemirror_mode": {
    "name": "ipython",
    "version": 3
   },
   "file_extension": ".py",
   "mimetype": "text/x-python",
   "name": "python",
   "nbconvert_exporter": "python",
   "pygments_lexer": "ipython3",
   "version": "3.9.12"
  }
 },
 "nbformat": 4,
 "nbformat_minor": 4
}
