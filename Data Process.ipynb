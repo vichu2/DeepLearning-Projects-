{
 "cells": [
  {
   "cell_type": "code",
   "execution_count": 1,
   "id": "45a38193",
   "metadata": {},
   "outputs": [],
   "source": [
    "import os\n",
    "import cv2\n",
    "\n",
    "import numpy as np\n",
    "import pandas as pd\n",
    "from sklearn.model_selection import train_test_split"
   ]
  },
  {
   "cell_type": "code",
   "execution_count": 12,
   "id": "e6898d61",
   "metadata": {},
   "outputs": [],
   "source": [
    "data_dir = ['D:\\data\\kaggle data\\dataset', 'D:\\data']"
   ]
  },
  {
   "cell_type": "code",
   "execution_count": 13,
   "id": "9af4f359",
   "metadata": {},
   "outputs": [],
   "source": [
    "save_clean_data = r'D:\\clean data'"
   ]
  },
  {
   "cell_type": "code",
   "execution_count": 14,
   "id": "f37bed5d",
   "metadata": {},
   "outputs": [],
   "source": [
    "path = os.path.join(save_clean_data, 'train')\n",
    "isExist = os.path.exists(path)\n",
    "if not isExist:\n",
    "    os.makedirs(path)"
   ]
  },
  {
   "cell_type": "code",
   "execution_count": 15,
   "id": "4d164195",
   "metadata": {},
   "outputs": [],
   "source": [
    "path = os.path.join(save_clean_data, 'validation')\n",
    "isExist = os.path.exists(path)\n",
    "if not isExist:\n",
    "    os.makedirs(path)"
   ]
  },
  {
   "cell_type": "code",
   "execution_count": 1,
   "id": "913c6002",
   "metadata": {},
   "outputs": [],
   "source": [
    "categories = ['adho mukha svanasana', 'padmasana','dhanurasana','']"
   ]
  },
  {
   "cell_type": "code",
   "execution_count": 17,
   "id": "639552d9",
   "metadata": {},
   "outputs": [],
   "source": [
    "all_links = dict()\n",
    "for category in categories:\n",
    "    links = []\n",
    "    for folder in data_dir:\n",
    "        path = os.path.join(folder, category)\n",
    "        files = [os.path.join(path, i) for i in os.listdir(path)]\n",
    "        links.extend(files)\n",
    "    all_links[category] = links"
   ]
  },
  {
   "cell_type": "code",
   "execution_count": 18,
   "id": "1405d6e4",
   "metadata": {},
   "outputs": [],
   "source": [
    "def process_image(read_path, write_path):\n",
    "    image = cv2.imread(read_path)\n",
    "    resized_image = cv2.resize(image, (224, 224))\n",
    "    cv2.imwrite(write_path, resized_image)"
   ]
  },
  {
   "cell_type": "code",
   "execution_count": 19,
   "id": "acef5605",
   "metadata": {},
   "outputs": [],
   "source": [
    "image_info = []\n",
    "for category, images in all_links.items():\n",
    "    \n",
    "    train_path, val_path = train_test_split(images, test_size=0.2, random_state=42)\n",
    "    \n",
    "    path = os.path.join(save_clean_data, 'train', category)\n",
    "    isExist = os.path.exists(path)\n",
    "    if not isExist:\n",
    "        os.makedirs(path)\n",
    "        \n",
    "    for i in range(len(train_path)):\n",
    "        img_path = path + '\\\\' + category + ' ' + f\"{i:05d}.jpg\"\n",
    "        process_image(images[i], img_path)\n",
    "        image_info.append([category, img_path])\n",
    "        \n",
    "    path = os.path.join(save_clean_data, 'validation', category)\n",
    "    isExist = os.path.exists(path)\n",
    "    if not isExist:\n",
    "        os.makedirs(path)\n",
    "        \n",
    "    for i in range(len(val_path)):\n",
    "        img_path = path + '\\\\' + category + ' ' + f\"{i:05d}.jpg\"\n",
    "        process_image(images[i], img_path)\n",
    "        image_info.append([category, img_path])"
   ]
  },
  {
   "cell_type": "code",
   "execution_count": 20,
   "id": "1ae2acf4",
   "metadata": {},
   "outputs": [],
   "source": [
    "df = pd.DataFrame(image_info, columns=['category', 'path'])"
   ]
  },
  {
   "cell_type": "code",
   "execution_count": 21,
   "id": "d113024e",
   "metadata": {},
   "outputs": [],
   "source": [
    "df.to_csv(os.path.join(save_clean_data, 'data_info.csv'), index=False)"
   ]
  },
  {
   "cell_type": "code",
   "execution_count": 22,
   "id": "ec4eff48",
   "metadata": {},
   "outputs": [
    {
     "data": {
      "text/plain": [
       "'C:\\\\Users\\\\Narayanan\\\\Desktop\\\\IIT Jammu\\\\Semester_2\\\\Deep_Learning\\\\Project'"
      ]
     },
     "execution_count": 22,
     "metadata": {},
     "output_type": "execute_result"
    }
   ],
   "source": [
    "os.getcwd()"
   ]
  },
  {
   "cell_type": "code",
   "execution_count": null,
   "id": "02b078b8",
   "metadata": {},
   "outputs": [],
   "source": []
  }
 ],
 "metadata": {
  "kernelspec": {
   "display_name": "Python 3 (ipykernel)",
   "language": "python",
   "name": "python3"
  },
  "language_info": {
   "codemirror_mode": {
    "name": "ipython",
    "version": 3
   },
   "file_extension": ".py",
   "mimetype": "text/x-python",
   "name": "python",
   "nbconvert_exporter": "python",
   "pygments_lexer": "ipython3",
   "version": "3.9.12"
  }
 },
 "nbformat": 4,
 "nbformat_minor": 5
}
